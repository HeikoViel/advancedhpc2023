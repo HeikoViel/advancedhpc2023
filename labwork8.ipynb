{
  "nbformat": 4,
  "nbformat_minor": 0,
  "metadata": {
    "colab": {
      "provenance": [],
      "gpuType": "T4",
      "authorship_tag": "ABX9TyPsQLBCnCjy8c9Wp08dc17w",
      "include_colab_link": true
    },
    "kernelspec": {
      "name": "python3",
      "display_name": "Python 3"
    },
    "language_info": {
      "name": "python"
    },
    "accelerator": "GPU"
  },
  "cells": [
    {
      "cell_type": "markdown",
      "metadata": {
        "id": "view-in-github",
        "colab_type": "text"
      },
      "source": [
        "<a href=\"https://colab.research.google.com/github/HeikoViel/advancedhpc2023/blob/main/labwork8.ipynb\" target=\"_parent\"><img src=\"https://colab.research.google.com/assets/colab-badge.svg\" alt=\"Open In Colab\"/></a>"
      ]
    },
    {
      "cell_type": "code",
      "execution_count": 1,
      "metadata": {
        "id": "OZu89weIDkvc"
      },
      "outputs": [],
      "source": [
        "import numba\n",
        "from numba import cuda\n",
        "import matplotlib.pyplot as plt\n",
        "import numpy as np\n",
        "import time"
      ]
    },
    {
      "cell_type": "code",
      "source": [
        "image = plt.imread(\"frog.jpg\")\n",
        "x_pixel = image.shape[0]\n",
        "y_pixel = image.shape[1]\n",
        "image = image.reshape(x_pixel * y_pixel, 3)"
      ],
      "metadata": {
        "id": "nWAAFxPxDxmm"
      },
      "execution_count": 2,
      "outputs": []
    },
    {
      "cell_type": "code",
      "source": [
        "@cuda.jit\n",
        "def RGBtoHSV(src, dst):\n",
        "  tidx = cuda.threadIdx.x + cuda.blockIdx.x * cuda.blockDim.x\n",
        "  R = src[tidx, 0] / 255\n",
        "  G = src[tidx, 1] / 255\n",
        "  B = src[tidx, 2] / 255\n",
        "  if(R >= G and R >= B):\n",
        "    listMax = R\n",
        "  if(G >= B and G >= R):\n",
        "    listMax = G\n",
        "  if(B >= R and B >= G):\n",
        "    listMax = B\n",
        "  if(R <= G and R <= B):\n",
        "    listMin = R\n",
        "  if(G <= B and G <= R):\n",
        "    listMin = G\n",
        "  if(B <= R and B <= G):\n",
        "    listMin = B\n",
        "  delta = listMax - listMin\n",
        "  if(delta==0):\n",
        "    dst[tidx, 0] = 0\n",
        "  elif(R==listMax):\n",
        "    dst[tidx, 0] = 60 * (((G - B)/delta)%6)\n",
        "  elif(G==listMax):\n",
        "    dst[tidx, 0] = 60 * ((B-R)/delta + 2)\n",
        "  elif(B==listMax):\n",
        "    dst[tidx, 0] = 60 * ((R-G)/delta + 4)\n",
        "\n",
        "  if(listMax!=0):\n",
        "    dst[tidx, 1] = delta/listMax\n",
        "  else:\n",
        "    dst[tidx, 1] = 0\n",
        "\n",
        "  dst[tidx, 2] = listMax"
      ],
      "metadata": {
        "id": "4O-AwqbSEWJ0"
      },
      "execution_count": 29,
      "outputs": []
    },
    {
      "cell_type": "code",
      "source": [
        "@cuda.jit\n",
        "def HSVtoRGB(src, dst):\n",
        "  tidx = cuda.threadIdx.x + cuda.blockIdx.x * cuda.blockDim.x\n",
        "  V = src[tidx, 2]\n",
        "  S = src[tidx, 1]\n",
        "  H = src[tidx, 0]\n",
        "  d = H / 60\n",
        "  hi = (int)(d%6)\n",
        "  f = d - hi\n",
        "  l = V * (1 - S)\n",
        "  m = V * (1 - f * S)\n",
        "  n = V * (1 - (1 - f))\n",
        "\n",
        "  if(0 <= H < 60):\n",
        "    dst[tidx, 0] = V\n",
        "    dst[tidx, 1] = n\n",
        "    dst[tidx, 2] = l\n",
        "  elif(60 <= H < 120):\n",
        "    dst[tidx, 0] = m\n",
        "    dst[tidx, 1] = V\n",
        "    dst[tidx, 2] = l\n",
        "  elif(120 <= H < 180):\n",
        "    dst[tidx, 0] = l\n",
        "    dst[tidx, 1] = V\n",
        "    dst[tidx, 2] = n\n",
        "  elif(180 <= H < 240):\n",
        "    dst[tidx, 0] = l\n",
        "    dst[tidx, 1] = m\n",
        "    dst[tidx, 2] = V\n",
        "  elif(240 <= H < 300):\n",
        "    dst[tidx, 0] = n\n",
        "    dst[tidx, 1] = l\n",
        "    dst[tidx, 2] = V\n",
        "  elif(300 <= H < 360):\n",
        "    dst[tidx, 0] = V\n",
        "    dst[tidx, 1] = l\n",
        "    dst[tidx, 2] = m\n",
        "\n",
        "  dst[tidx, 0] = int(dst[tidx, 0] * 255)\n",
        "  dst[tidx, 1] = int(dst[tidx, 1] * 255)\n",
        "  dst[tidx, 2] = int(dst[tidx, 2] * 255)"
      ],
      "metadata": {
        "id": "DcTziwaKLY2Q"
      },
      "execution_count": 53,
      "outputs": []
    },
    {
      "cell_type": "code",
      "source": [
        "print(image[0])\n",
        "devSrc = cuda.to_device(image)\n",
        "devDst = cuda.device_array((x_pixel * y_pixel, 3), np.float32)\n",
        "pixelCount = x_pixel * y_pixel\n",
        "blockSize = 64\n",
        "gridSize = np.uint16(pixelCount / blockSize)\n",
        "RGBtoHSV[gridSize, blockSize](devSrc, devDst)"
      ],
      "metadata": {
        "colab": {
          "base_uri": "https://localhost:8080/"
        },
        "id": "3QXWrN69Ecsz",
        "outputId": "2567308d-f303-4ec9-d65f-151b7506f1e3"
      },
      "execution_count": 56,
      "outputs": [
        {
          "output_type": "stream",
          "name": "stdout",
          "text": [
            "[ 96 109  63]\n"
          ]
        }
      ]
    },
    {
      "cell_type": "code",
      "source": [
        "#devSrc2 = cuda.to_device(hostDst)\n",
        "devDst2 = cuda.device_array((x_pixel * y_pixel, 3), np.uint8)\n",
        "HSVtoRGB[gridSize, blockSize](devDst, devDst2)\n",
        "hostDst = devDst2.copy_to_host()\n",
        "\n",
        "print(hostDst[0])\n",
        "\n",
        "hostDst = hostDst.reshape(x_pixel, y_pixel, 3)\n",
        "fig, ax = plt.subplots()\n",
        "ax.imshow(hostDst)\n",
        "ax.axis('off')"
      ],
      "metadata": {
        "colab": {
          "base_uri": "https://localhost:8080/",
          "height": 441
        },
        "id": "15wFDu9_L36j",
        "outputId": "04d4ff80-24c8-4926-fc21-4cf9ca5f6897"
      },
      "execution_count": 57,
      "outputs": [
        {
          "output_type": "stream",
          "name": "stdout",
          "text": [
            "[0 0 0]\n"
          ]
        },
        {
          "output_type": "execute_result",
          "data": {
            "text/plain": [
              "(-0.5, 745.5, 738.5, -0.5)"
            ]
          },
          "metadata": {},
          "execution_count": 57
        },
        {
          "output_type": "display_data",
          "data": {
            "text/plain": [
              "<Figure size 640x480 with 1 Axes>"
            ],
            "image/png": "[encoded data removed]"
          },
          "metadata": {}
        }
      ]
    }
  ]
}